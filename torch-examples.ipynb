{
 "cells": [
  {
   "cell_type": "markdown",
   "metadata": {},
   "source": [
    "# torch basics"
   ]
  },
  {
   "cell_type": "code",
   "execution_count": 2,
   "metadata": {},
   "outputs": [
    {
     "name": "stdout",
     "output_type": "stream",
     "text": [
      "cuda\n"
     ]
    }
   ],
   "source": [
    "import torch\n",
    "import torch.nn as nn\n",
    "import numpy as np \n",
    "import time \n",
    "\n",
    "device = 'cuda' if torch.cuda.is_available() else 'cpu'\n",
    "print(device)\n"
   ]
  },
  {
   "cell_type": "code",
   "execution_count": 2,
   "metadata": {},
   "outputs": [
    {
     "data": {
      "text/plain": [
       "tensor([-65,  18, -59,  28, -71,  94])"
      ]
     },
     "execution_count": 2,
     "metadata": {},
     "output_type": "execute_result"
    }
   ],
   "source": [
    "randint = torch.randint(-100, 100, (6,))\n",
    "randint"
   ]
  },
  {
   "cell_type": "code",
   "execution_count": 3,
   "metadata": {},
   "outputs": [
    {
     "data": {
      "text/plain": [
       "tensor([[0.1000, 1.2000],\n",
       "        [2.2000, 3.1000],\n",
       "        [4.9000, 5.2000]])"
      ]
     },
     "execution_count": 3,
     "metadata": {},
     "output_type": "execute_result"
    }
   ],
   "source": [
    "tensor = torch.tensor([[0.1, 1.2], [2.2, 3.1], [4.9, 5.2]])\n",
    "tensor"
   ]
  },
  {
   "cell_type": "code",
   "execution_count": 4,
   "metadata": {},
   "outputs": [
    {
     "data": {
      "text/plain": [
       "tensor([[0., 0., 0.],\n",
       "        [0., 0., 0.]])"
      ]
     },
     "execution_count": 4,
     "metadata": {},
     "output_type": "execute_result"
    }
   ],
   "source": [
    "zeros = torch.zeros(2, 3)\n",
    "zeros"
   ]
  },
  {
   "cell_type": "code",
   "execution_count": 6,
   "metadata": {},
   "outputs": [
    {
     "data": {
      "text/plain": [
       "tensor([[1., 1., 1., 1.],\n",
       "        [1., 1., 1., 1.],\n",
       "        [1., 1., 1., 1.]])"
      ]
     },
     "execution_count": 6,
     "metadata": {},
     "output_type": "execute_result"
    }
   ],
   "source": [
    "ones = torch.ones(3, 4)\n",
    "ones"
   ]
  },
  {
   "cell_type": "code",
   "execution_count": 7,
   "metadata": {},
   "outputs": [
    {
     "data": {
      "text/plain": [
       "tensor([[0.0000e+00, 4.5733e-41, 2.7340e+20],\n",
       "        [6.8589e+22, 1.5766e-19, 1.4600e-19]])"
      ]
     },
     "execution_count": 7,
     "metadata": {},
     "output_type": "execute_result"
    }
   ],
   "source": [
    "input = torch.empty(2, 3)  # torch.empty fonksiyonunu kullanarak, belirtilen boyutlarda (shape) boş bir tensor oluşturur. Oluşturulan tensorün değerleri başlangıçta rastgele olacaktır ve bu değerlerin spesifik bir başlangıç değeri yoktur. Yani, tensor, bellekteki mevcut değerlere bağlı olarak önceden belirlenmiş olacaktır.\n",
    "input"
   ]
  },
  {
   "cell_type": "code",
   "execution_count": 8,
   "metadata": {},
   "outputs": [
    {
     "data": {
      "text/plain": [
       "tensor([0, 1, 2, 3, 4])"
      ]
     },
     "execution_count": 8,
     "metadata": {},
     "output_type": "execute_result"
    }
   ],
   "source": [
    "arange = torch.arange(5)\n",
    "arange"
   ]
  },
  {
   "cell_type": "code",
   "execution_count": 9,
   "metadata": {},
   "outputs": [
    {
     "data": {
      "text/plain": [
       "tensor([ 3.0000,  4.7500,  6.5000,  8.2500, 10.0000])"
      ]
     },
     "execution_count": 9,
     "metadata": {},
     "output_type": "execute_result"
    }
   ],
   "source": [
    "linspace = torch.linspace(3, 10, steps=5) #3ten 10 a kadar eşit aralıkta artan 5 adet sayı üretir\n",
    "linspace"
   ]
  },
  {
   "cell_type": "code",
   "execution_count": 10,
   "metadata": {},
   "outputs": [
    {
     "data": {
      "text/plain": [
       "tensor([1.0000e-10, 1.0000e-05, 1.0000e+00, 1.0000e+05, 1.0000e+10])"
      ]
     },
     "execution_count": 10,
     "metadata": {},
     "output_type": "execute_result"
    }
   ],
   "source": [
    "logspace = torch.logspace(start=-10, end=10, steps=5) #-10 ile 10 arasında logaritmik bir ölçekte beş adet örnek üretecektir. \n",
    "logspace"
   ]
  },
  {
   "cell_type": "code",
   "execution_count": 4,
   "metadata": {},
   "outputs": [
    {
     "data": {
      "text/plain": [
       "tensor([[1., 0., 0., 0., 0.],\n",
       "        [0., 1., 0., 0., 0.],\n",
       "        [0., 0., 1., 0., 0.],\n",
       "        [0., 0., 0., 1., 0.],\n",
       "        [0., 0., 0., 0., 1.]])"
      ]
     },
     "execution_count": 4,
     "metadata": {},
     "output_type": "execute_result"
    }
   ],
   "source": [
    "#Birim matris (identity matrix), ana köşegeni boyunca 1'ler ve geri kalan elemanları 0 olan kare bir matristir.\n",
    "\n",
    "eye = torch.eye(5)\n",
    "eye"
   ]
  },
  {
   "cell_type": "code",
   "execution_count": 13,
   "metadata": {},
   "outputs": [
    {
     "data": {
      "text/plain": [
       "tensor([[3616445622929465956, 6067247193166720308, 3761695571731690033],\n",
       "        [6501004551900181550, 7309453675965983778, 8315168162784306286]])"
      ]
     },
     "execution_count": 13,
     "metadata": {},
     "output_type": "execute_result"
    }
   ],
   "source": [
    "a = torch.empty((2,3), dtype=torch.int64)\n",
    "empty_like = torch.empty_like(a)\n",
    "empty_like\n",
    "\n",
    "#torch.empty_like fonksiyonu, belirli bir tensörün boyutlarına ve veri tipine sahip, ancak başlangıç değerlerine sahip olmayan bir başka tensör oluşturur. \n",
    "#Önceki tensörün boyutları ve veri tipi, yeni oluşturulan tensörün boyutları ve veri tipini belirlemede kullanılır."
   ]
  },
  {
   "cell_type": "code",
   "execution_count": 8,
   "metadata": {},
   "outputs": [
    {
     "data": {
      "text/plain": [
       "tensor([1, 2, 3, 4, 5])"
      ]
     },
     "execution_count": 8,
     "metadata": {},
     "output_type": "execute_result"
    }
   ],
   "source": [
    "#torch.cat fonksiyonu, bir veya daha fazla tensor'ü belirtilen boyutlar boyunca birleştirmek için kullanılır.\n",
    "tensor = torch.tensor([1, 2, 3, 4])\n",
    "out = torch.cat((tensor, torch.tensor([5])), dim=0)   #dim=0 parametresi, birleştirmenin 0. boyutta (satırlar boyunca) yapılacağını belirtir. \n",
    "out"
   ]
  },
  {
   "cell_type": "code",
   "execution_count": 16,
   "metadata": {},
   "outputs": [
    {
     "data": {
      "text/plain": [
       "tensor([[1., 0., 0., 0., 0.],\n",
       "        [1., 1., 0., 0., 0.],\n",
       "        [1., 1., 1., 0., 0.],\n",
       "        [1., 1., 1., 1., 0.],\n",
       "        [1., 1., 1., 1., 1.]])"
      ]
     },
     "execution_count": 16,
     "metadata": {},
     "output_type": "execute_result"
    }
   ],
   "source": [
    "#tril fonksiyonu, bir tensorün üst üçgen (diagonal üstü) elemanlarını sıfırlar.\n",
    "out = torch.tril(torch.ones(5,5))\n",
    "out"
   ]
  },
  {
   "cell_type": "code",
   "execution_count": 17,
   "metadata": {},
   "outputs": [
    {
     "data": {
      "text/plain": [
       "tensor([[1., 1., 1., 1., 1.],\n",
       "        [0., 1., 1., 1., 1.],\n",
       "        [0., 0., 1., 1., 1.],\n",
       "        [0., 0., 0., 1., 1.],\n",
       "        [0., 0., 0., 0., 1.]])"
      ]
     },
     "execution_count": 17,
     "metadata": {},
     "output_type": "execute_result"
    }
   ],
   "source": [
    "#triu fonksiyonu, bir tensorün alt üçgen (diagonal altı) elemanlarını sıfırlar.\n",
    "out = torch.triu(torch.ones(5,5))\n",
    "out"
   ]
  },
  {
   "cell_type": "code",
   "execution_count": 9,
   "metadata": {},
   "outputs": [
    {
     "data": {
      "text/plain": [
       "tensor([[0., -inf, -inf, -inf, -inf],\n",
       "        [0., 0., -inf, -inf, -inf],\n",
       "        [0., 0., 0., -inf, -inf],\n",
       "        [0., 0., 0., 0., -inf],\n",
       "        [0., 0., 0., 0., 0.]])"
      ]
     },
     "execution_count": 9,
     "metadata": {},
     "output_type": "execute_result"
    }
   ],
   "source": [
    "out = torch.zeros(5,5).masked_fill(torch.tril(torch.ones(5,5)) == 0, float('-inf'))\n",
    "out\n",
    "\n",
    "#torch.zeros(5, 5): 5x5 boyutunda bir matris oluşturur, tüm elemanları 0 olan bir matristir.\n",
    "#torch.tril(torch.ones(5, 5)) == 0: torch.tril fonksiyonu ile bu matrisin üst üçgenini maskeler. == 0 karşılaştırması, sadece üst üçgenin elemanlarını 0 olarak ayarlar ve alt üçgeni 1 olarak bırakır.\n",
    "#torch.zeros(5, 5).masked_fill(..., float('-inf')): masked_fill fonksiyonu, belirli bir maskeye (torch.tril ile oluşturulan maske) dayalı olarak bir matrisin belirli elemanlarını belirtilen değerle doldurur. \n",
    "#Burada, üst üçgeni (torch.tril tarafından oluşturulan maske) float('-inf') ile doldurulur."
   ]
  },
  {
   "cell_type": "code",
   "execution_count": 19,
   "metadata": {},
   "outputs": [
    {
     "data": {
      "text/plain": [
       "tensor([[1., 0., 0., 0., 0.],\n",
       "        [1., 1., 0., 0., 0.],\n",
       "        [1., 1., 1., 0., 0.],\n",
       "        [1., 1., 1., 1., 0.],\n",
       "        [1., 1., 1., 1., 1.]])"
      ]
     },
     "execution_count": 19,
     "metadata": {},
     "output_type": "execute_result"
    }
   ],
   "source": [
    "torch.exp(out)\n",
    "# torch.exp fonksiyonunu kullanarak bir tensorün her elemanının üs alma işlemiyle e^x'e (euler sayısı üzeri x) yükseltilmesini gerçekleştirir."
   ]
  },
  {
   "cell_type": "code",
   "execution_count": 20,
   "metadata": {},
   "outputs": [
    {
     "data": {
      "text/plain": [
       "torch.Size([4, 3, 2])"
      ]
     },
     "execution_count": 20,
     "metadata": {},
     "output_type": "execute_result"
    }
   ],
   "source": [
    "#transpose fonksiyonu, tensorün boyutlarını belirtilen şekilde değiştirmeye olanak tanır.\n",
    "\n",
    "input = torch.zeros(2, 3, 4)\n",
    "out = input.transpose(0, 2) #input tensorünün boyutlarını 0. boyut ile 2. boyutu yer değiştirerek yeni bir tensor oluşturur.\n",
    "out.shape"
   ]
  },
  {
   "cell_type": "code",
   "execution_count": 21,
   "metadata": {},
   "outputs": [
    {
     "data": {
      "text/plain": [
       "tensor([[1, 2, 3],\n",
       "        [4, 5, 6],\n",
       "        [7, 8, 9]])"
      ]
     },
     "execution_count": 21,
     "metadata": {},
     "output_type": "execute_result"
    }
   ],
   "source": [
    "#torch.stack fonksiyonu, belirtilen boyut boyunca tensorleri birleştirmek için kullanılır. \n",
    "#Bu fonksiyon, bir boyut ekleyerek tensorleri üst üste yığar.\n",
    "\n",
    "tensor1 = torch.tensor([1, 2, 3])\n",
    "tensor2 = torch.tensor([4, 5, 6])\n",
    "tensor3 = torch.tensor([7, 8, 9])\n",
    "\n",
    "#stack the ytensors along a new dimension\n",
    "stacked_tensor = torch.stack([tensor1, tensor2, tensor3])\n",
    "stacked_tensor"
   ]
  },
  {
   "cell_type": "code",
   "execution_count": 22,
   "metadata": {},
   "outputs": [
    {
     "name": "stdout",
     "output_type": "stream",
     "text": [
      "tensor([-4.0439, -5.7986, -1.4153], grad_fn=<SqueezeBackward3>)\n"
     ]
    }
   ],
   "source": [
    "#bir örnek tensor (sample) oluşturuluyor ve ardından nn.Linear modülü kullanılarak bir lineer dönüşüm (linear) yapılıyor.\n",
    "\n",
    "import torch.nn as nn \n",
    "sample = torch.tensor([10., 10., 10.])\n",
    "\n",
    "#nn.Linear modülü, bir giriş boyutunu belirleyen in_features ve bir çıkış boyutunu belirleyen out_features parametreleri ile tanımlanır. \n",
    "#Ayrıca, eğer bir bias eklemek istemiyorsanız, bias parametresini False olarak belirtebilirsiniz (bu durumda, bias eklenmez).\n",
    "linear = nn.Linear(3, 3, bias=False)\n",
    "print(linear(sample))"
   ]
  },
  {
   "cell_type": "code",
   "execution_count": 23,
   "metadata": {},
   "outputs": [
    {
     "name": "stdout",
     "output_type": "stream",
     "text": [
      "tensor([0.0900, 0.2447, 0.6652])\n"
     ]
    }
   ],
   "source": [
    "import torch.nn.functional as F \n",
    "\n",
    "#create a tensor\n",
    "tensor1 = torch.tensor([1.0, 2.0, 3.0])\n",
    "\n",
    "#apply softmax using torch.nn.functional.softmax()\n",
    "softmax_output = F.softmax(tensor1, dim=0)\n",
    "\n",
    "#softmax işlemi içinde exp (e^x)(e=2.71) fonksiyonu kullanılır. \n",
    "#Softmax fonksiyonu, her öğeyi exp fonksiyonuna geçirip, ardından normalleştirme yaparak çalışır. \n",
    "\n",
    "print(softmax_output)\n",
    "\n",
    "#https://youtu.be/UU1WVnMk4E8?si=OKCRnL1v6iu4nfPL&t=3738"
   ]
  },
  {
   "cell_type": "code",
   "execution_count": 2,
   "metadata": {},
   "outputs": [
    {
     "name": "stdout",
     "output_type": "stream",
     "text": [
      "torch.Size([4, 100])\n"
     ]
    }
   ],
   "source": [
    "#EMBEDDING\n",
    "\n",
    "#initialize an embedding layer\n",
    "vocab_size = 1000 #kelime dağarcığı boyutu\n",
    "embedding_dim = 100 #gömme matrisi boyutu ve özellik boyutu\n",
    "embedding = nn.Embedding(vocab_size, embedding_dim)  #gömme matrisi oluşturma\n",
    "\n",
    "#create some input indices\n",
    "input_indices = torch.LongTensor([1, 5, 3, 2])\n",
    "\n",
    "#apply the embedding layer\n",
    "embedding_output = embedding(input_indices)\n",
    "\n",
    "#the output will be a tensor of shape (4, 100), \n",
    "#where 4 is the number of inputs and 100 is the dimensionalty of the embedding vectors\n",
    "\n",
    "print(embedding_output.shape)"
   ]
  },
  {
   "cell_type": "code",
   "execution_count": 10,
   "metadata": {},
   "outputs": [
    {
     "name": "stdout",
     "output_type": "stream",
     "text": [
      "tensor([[ 27,  30,  33],\n",
      "        [ 61,  68,  75],\n",
      "        [ 95, 106, 117]])\n"
     ]
    }
   ],
   "source": [
    "a = torch.tensor([[1,2],[3,4],[5,6]])\n",
    "b = torch.tensor([[7,8,9],[10,11,12]])\n",
    "print(a @ b )  #pytorchta iki matrisin çapım işareti: @\n",
    "#print(torch.matmul(a,b)) #aynı işlemin farklı şekli"
   ]
  },
  {
   "cell_type": "code",
   "execution_count": 6,
   "metadata": {},
   "outputs": [
    {
     "name": "stdout",
     "output_type": "stream",
     "text": [
      "tensor([[0., 0., 0.],\n",
      "        [0., 0., 0.],\n",
      "        [0., 0., 0.]])\n"
     ]
    }
   ],
   "source": [
    "int_64 = torch.randint(1, (3,2)).float()  #float() methodunu yazmadan çarpmaya çalıştığımızda aynı dtype olmadıkları için işlem yapılmaz\n",
    "#type int64\n",
    "\n",
    "float_32 = torch.rand(2,3)\n",
    "#type float32\n",
    "\n",
    "result = torch.matmul(int_64, float_32)\n",
    "print(result)"
   ]
  }
 ],
 "metadata": {
  "kernelspec": {
   "display_name": "base",
   "language": "python",
   "name": "python3"
  },
  "language_info": {
   "codemirror_mode": {
    "name": "ipython",
    "version": 3
   },
   "file_extension": ".py",
   "mimetype": "text/x-python",
   "name": "python",
   "nbconvert_exporter": "python",
   "pygments_lexer": "ipython3",
   "version": "3.9.12"
  }
 },
 "nbformat": 4,
 "nbformat_minor": 2
}
